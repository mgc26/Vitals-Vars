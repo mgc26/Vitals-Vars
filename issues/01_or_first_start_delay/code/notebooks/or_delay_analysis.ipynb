{
 "cells": [
  {
   "cell_type": "markdown",
   "metadata": {},
   "source": [
    "# First-Case OR Delay Analysis\n",
    "\n",
    "This notebook provides a complete analysis of first-case OR delays using sample data. \n",
    "Adapt the code to work with your hospital's data.\n"
   ]
  },
  {
   "cell_type": "code",
   "execution_count": null,
   "metadata": {},
   "outputs": [],
   "source": [
    "# Import required libraries\n",
    "import pandas as pd\n",
    "import numpy as np\n",
    "import matplotlib.pyplot as plt\n",
    "import seaborn as sns\n",
    "from datetime import datetime, timedelta\n",
    "\n",
    "# Set display options\n",
    "pd.set_option('display.max_columns', None)\n",
    "plt.style.use('seaborn-v0_8-darkgrid')\n",
    "sns.set_palette('husl')"
   ]
  },
  {
   "cell_type": "code",
   "execution_count": null,
   "metadata": {},
   "outputs": [],
   "source": [
    "# Load the sample data\n",
    "df = pd.read_csv('../data/sample_or_delays.csv')\n",
    "\n",
    "# Convert time columns to datetime\n",
    "df['scheduled_start'] = pd.to_datetime(df['scheduled_start'], format='%H:%M:%S').dt.time\n",
    "df['actual_start'] = pd.to_datetime(df['actual_start'], format='%H:%M:%S').dt.time\n",
    "df['surgery_date'] = pd.to_datetime(df['surgery_date'])\n",
    "\n",
    "print(f\"Dataset contains {len(df)} first-case records\")\n",
    "print(f\"Date range: {df['surgery_date'].min()} to {df['surgery_date'].max()}\")\n",
    "df.head()"
   ]
  },
  {
   "cell_type": "markdown",
   "metadata": {},
   "source": [
    "## 1. Overall Delay Statistics"
   ]
  },
  {
   "cell_type": "code",
   "execution_count": null,
   "metadata": {},
   "outputs": [],
   "source": [
    "# Calculate key metrics\n",
    "avg_delay = df['delay_minutes'].mean()\n",
    "median_delay = df['delay_minutes'].median()\n",
    "on_time_rate = (df['delay_minutes'] <= 5).mean() * 100\n",
    "severe_delay_rate = (df['delay_minutes'] > 30).mean() * 100\n",
    "\n",
    "print(f\"Average delay: {avg_delay:.1f} minutes\")\n",
    "print(f\"Median delay: {median_delay:.1f} minutes\")\n",
    "print(f\"On-time start rate (≤5 min): {on_time_rate:.1f}%\")\n",
    "print(f\"Severe delay rate (>30 min): {severe_delay_rate:.1f}%\")\n",
    "\n",
    "# Financial impact calculation\n",
    "total_delay_hours = df['delay_minutes'].sum() / 60\n",
    "or_cost_per_minute = 100  # $100/minute is typical\n",
    "financial_impact = df['delay_minutes'].sum() * or_cost_per_minute\n",
    "\n",
    "print(f\"\\nTotal delay time: {total_delay_hours:.1f} hours\")\n",
    "print(f\"Estimated financial impact: ${financial_impact:,.0f}\")"
   ]
  },
  {
   "cell_type": "markdown",
   "metadata": {},
   "source": [
    "## 2. Delay Distribution Analysis"
   ]
  },
  {
   "cell_type": "code",
   "execution_count": null,
   "metadata": {},
   "outputs": [],
   "source": [
    "# Create delay distribution plot\n",
    "fig, (ax1, ax2) = plt.subplots(1, 2, figsize=(14, 5))\n",
    "\n",
    "# Histogram\n",
    "ax1.hist(df['delay_minutes'], bins=20, edgecolor='black', alpha=0.7)\n",
    "ax1.axvline(avg_delay, color='red', linestyle='--', label=f'Average: {avg_delay:.1f} min')\n",
    "ax1.axvline(5, color='green', linestyle='--', label='On-time threshold')\n",
    "ax1.set_xlabel('Delay Minutes')\n",
    "ax1.set_ylabel('Frequency')\n",
    "ax1.set_title('Distribution of First-Case Delays')\n",
    "ax1.legend()\n",
    "\n",
    "# Box plot by OR room\n",
    "df.boxplot(column='delay_minutes', by='or_room', ax=ax2)\n",
    "ax2.set_xlabel('OR Room')\n",
    "ax2.set_ylabel('Delay Minutes')\n",
    "ax2.set_title('Delay Distribution by OR Room')\n",
    "\n",
    "plt.tight_layout()\n",
    "plt.show()"
   ]
  },
  {
   "cell_type": "markdown",
   "metadata": {},
   "source": [
    "## 3. Root Cause Analysis"
   ]
  },
  {
   "cell_type": "code",
   "execution_count": null,
   "metadata": {},
   "outputs": [],
   "source": [
    "# Analyze delay reasons\n",
    "delay_reasons = df[df['delay_minutes'] > 5]['delay_reason'].value_counts()\n",
    "delay_reason_pct = delay_reasons / delay_reasons.sum() * 100\n",
    "\n",
    "# Create root cause visualization\n",
    "fig, (ax1, ax2) = plt.subplots(1, 2, figsize=(14, 5))\n",
    "\n",
    "# Pie chart\n",
    "ax1.pie(delay_reason_pct, labels=delay_reason_pct.index, autopct='%1.1f%%')\n",
    "ax1.set_title('Root Causes of Delays (>5 minutes)')\n",
    "\n",
    "# Average delay by reason\n",
    "avg_delay_by_reason = df[df['delay_minutes'] > 5].groupby('delay_reason')['delay_minutes'].mean().sort_values(ascending=False)\n",
    "avg_delay_by_reason.plot(kind='barh', ax=ax2)\n",
    "ax2.set_xlabel('Average Delay (minutes)')\n",
    "ax2.set_title('Average Delay by Root Cause')\n",
    "\n",
    "plt.tight_layout()\n",
    "plt.show()\n",
    "\n",
    "print(\"\\nDelay Reason Analysis:\")\n",
    "for reason, pct in delay_reason_pct.items():\n",
    "    avg = avg_delay_by_reason.get(reason, 0)\n",
    "    print(f\"{reason}: {pct:.1f}% of delays, averaging {avg:.1f} minutes\")"
   ]
  },
  {
   "cell_type": "markdown",
   "metadata": {},
   "source": [
    "## 4. Day of Week Pattern Analysis"
   ]
  },
  {
   "cell_type": "code",
   "execution_count": null,
   "metadata": {},
   "outputs": [],
   "source": [
    "# Analyze patterns by day of week\n",
    "day_analysis = df.groupby('day_of_week').agg({\n",
    "    'delay_minutes': ['mean', 'median', 'std', 'count'],\n",
    "    'case_id': 'count'\n",
    "}).round(1)\n",
    "\n",
    "# Reorder days\n",
    "day_order = ['Monday', 'Tuesday', 'Wednesday', 'Thursday', 'Friday']\n",
    "day_analysis = day_analysis.reindex(day_order)\n",
    "\n",
    "# Plot day of week patterns\n",
    "fig, ax = plt.subplots(figsize=(10, 6))\n",
    "x = range(len(day_order))\n",
    "ax.bar(x, day_analysis['delay_minutes']['mean'], yerr=day_analysis['delay_minutes']['std'], \n",
    "       capsize=5, alpha=0.7)\n",
    "ax.set_xticks(x)\n",
    "ax.set_xticklabels(day_order)\n",
    "ax.set_ylabel('Average Delay (minutes)')\n",
    "ax.set_title('First-Case Delays by Day of Week')\n",
    "ax.axhline(y=avg_delay, color='red', linestyle='--', label=f'Overall Average: {avg_delay:.1f} min')\n",
    "ax.legend()\n",
    "\n",
    "plt.tight_layout()\n",
    "plt.show()\n",
    "\n",
    "print(\"\\nDay of Week Analysis:\")\n",
    "print(day_analysis['delay_minutes'])"
   ]
  },
  {
   "cell_type": "markdown",
   "metadata": {},
   "source": [
    "## 5. OR Room Performance Comparison"
   ]
  },
  {
   "cell_type": "code",
   "execution_count": null,
   "metadata": {},
   "outputs": [],
   "source": [
    "# Compare OR room performance\n",
    "room_performance = df.groupby('or_room').agg({\n",
    "    'delay_minutes': ['mean', 'count'],\n",
    "    'case_id': lambda x: (df[df['or_room'] == x.iloc[0]]['delay_minutes'] <= 5).sum()\n",
    "}).round(1)\n",
    "\n",
    "room_performance.columns = ['avg_delay', 'total_cases', 'on_time_cases']\n",
    "room_performance['on_time_rate'] = (room_performance['on_time_cases'] / room_performance['total_cases'] * 100).round(1)\n",
    "\n",
    "# Create visualization\n",
    "fig, (ax1, ax2) = plt.subplots(1, 2, figsize=(12, 5))\n",
    "\n",
    "# Average delay by room\n",
    "room_performance['avg_delay'].plot(kind='bar', ax=ax1)\n",
    "ax1.set_ylabel('Average Delay (minutes)')\n",
    "ax1.set_title('Average Delay by OR Room')\n",
    "ax1.axhline(y=avg_delay, color='red', linestyle='--')\n",
    "\n",
    "# On-time rate by room\n",
    "room_performance['on_time_rate'].plot(kind='bar', ax=ax2, color='green')\n",
    "ax2.set_ylabel('On-Time Start Rate (%)')\n",
    "ax2.set_title('On-Time Performance by OR Room')\n",
    "ax2.axhline(y=80, color='red', linestyle='--', label='Target: 80%')\n",
    "ax2.legend()\n",
    "\n",
    "plt.tight_layout()\n",
    "plt.show()\n",
    "\n",
    "print(\"\\nOR Room Performance Summary:\")\n",
    "print(room_performance)"
   ]
  },
  {
   "cell_type": "markdown",
   "metadata": {},
   "source": [
    "## 6. Financial Impact Calculator"
   ]
  },
  {
   "cell_type": "code",
   "execution_count": null,
   "metadata": {},
   "outputs": [],
   "source": [
    "# Calculate detailed financial impact\n",
    "def calculate_financial_impact(df, or_cost_per_min=100, overtime_threshold_min=30, overtime_rate=1.5):\n",
    "    # Direct OR time cost\n",
    "    total_delay_cost = df['delay_minutes'].sum() * or_cost_per_min\n",
    "    \n",
    "    # Overtime costs (delays > 30 min often cause overtime)\n",
    "    overtime_delays = df[df['delay_minutes'] > overtime_threshold_min]\n",
    "    overtime_minutes = (overtime_delays['delay_minutes'] - overtime_threshold_min).sum()\n",
    "    overtime_cost = overtime_minutes * or_cost_per_min * (overtime_rate - 1)\n",
    "    \n",
    "    # Opportunity cost (lost cases)\n",
    "    avg_case_duration = df['case_duration_min'].mean()\n",
    "    potential_additional_cases = total_delay_cost / or_cost_per_min / avg_case_duration\n",
    "    avg_case_revenue = 5000  # Conservative estimate\n",
    "    opportunity_cost = potential_additional_cases * avg_case_revenue\n",
    "    \n",
    "    return {\n",
    "        'total_delay_minutes': df['delay_minutes'].sum(),\n",
    "        'direct_cost': total_delay_cost,\n",
    "        'overtime_cost': overtime_cost,\n",
    "        'opportunity_cost': opportunity_cost,\n",
    "        'total_impact': total_delay_cost + overtime_cost + opportunity_cost\n",
    "    }\n",
    "\n",
    "# Calculate annual projection\n",
    "sample_days = (df['surgery_date'].max() - df['surgery_date'].min()).days + 1\n",
    "annual_multiplier = 250 / sample_days  # 250 operating days per year\n",
    "\n",
    "sample_impact = calculate_financial_impact(df)\n",
    "annual_impact = {k: v * annual_multiplier for k, v in sample_impact.items()}\n",
    "\n",
    "print(\"Financial Impact Analysis\")\n",
    "print(\"=\" * 40)\n",
    "print(f\"Sample Period ({sample_days} days):\")\n",
    "for key, value in sample_impact.items():\n",
    "    if 'cost' in key or 'impact' in key:\n",
    "        print(f\"  {key.replace('_', ' ').title()}: ${value:,.0f}\")\n",
    "    else:\n",
    "        print(f\"  {key.replace('_', ' ').title()}: {value:,.0f}\")\n",
    "\n",
    "print(f\"\\nAnnual Projection (250 operating days):\")\n",
    "for key, value in annual_impact.items():\n",
    "    if 'cost' in key or 'impact' in key:\n",
    "        print(f\"  {key.replace('_', ' ').title()}: ${value:,.0f}\")\n",
    "    else:\n",
    "        print(f\"  {key.replace('_', ' ').title()}: {value:,.0f}\")\n",
    "\n",
    "# ROI calculation for interventions\n",
    "intervention_cost = 50000  # One-time implementation cost\n",
    "expected_reduction = 0.6  # 60% reduction based on pilot data\n",
    "annual_savings = annual_impact['total_impact'] * expected_reduction\n",
    "roi = (annual_savings - intervention_cost) / intervention_cost * 100\n",
    "payback_months = intervention_cost / (annual_savings / 12)\n",
    "\n",
    "print(f\"\\nROI Analysis (60% reduction scenario):\")\n",
    "print(f\"  Implementation cost: ${intervention_cost:,.0f}\")\n",
    "print(f\"  Expected annual savings: ${annual_savings:,.0f}\")\n",
    "print(f\"  First-year ROI: {roi:.0f}%\")\n",
    "print(f\"  Payback period: {payback_months:.1f} months\")"
   ]
  },
  {
   "cell_type": "markdown",
   "metadata": {},
   "source": [
    "## 7. Actionable Insights & Recommendations"
   ]
  },
  {
   "cell_type": "code",
   "execution_count": null,
   "metadata": {},
   "outputs": [],
   "source": [
    "# Generate targeted recommendations based on analysis\n",
    "print(\"PRIORITY RECOMMENDATIONS\")\n",
    "print(\"=\" * 50)\n",
    "\n",
    "# 1. Equipment readiness (top cause)\n",
    "equipment_delays = df[df['delay_reason'] == 'Equipment Not Ready']\n",
    "if len(equipment_delays) > 0:\n",
    "    equipment_impact = equipment_delays['delay_minutes'].sum() / df['delay_minutes'].sum() * 100\n",
    "    print(f\"\\n1. EQUIPMENT READINESS ({equipment_impact:.0f}% of total delays)\")\n",
    "    print(\"   - Implement evening equipment checklist\")\n",
    "    print(\"   - Assign OR tech for PM equipment verification\")\n",
    "    print(f\"   - Potential savings: ${annual_impact['total_impact'] * equipment_impact/100:,.0f}/year\")\n",
    "\n",
    "# 2. Day of week patterns\n",
    "monday_delay = day_analysis.loc['Monday', ('delay_minutes', 'mean')]\n",
    "if monday_delay > avg_delay * 1.3:\n",
    "    print(f\"\\n2. MONDAY SYNDROME (delays {monday_delay/avg_delay:.0f}x average)\")\n",
    "    print(\"   - Sunday evening equipment prep team\")\n",
    "    print(\"   - Monday-specific morning huddle at 6:45 AM\")\n",
    "    print(\"   - Weekend case cart preparation\")\n",
    "\n",
    "# 3. Room-specific issues\n",
    "worst_room = room_performance['avg_delay'].idxmax()\n",
    "if room_performance.loc[worst_room, 'avg_delay'] > avg_delay * 1.5:\n",
    "    print(f\"\\n3. TARGETED INTERVENTION FOR {worst_room}\")\n",
    "    print(f\"   - Average delay: {room_performance.loc[worst_room, 'avg_delay']:.0f} min\")\n",
    "    print(\"   - Dedicated first-case team assignment\")\n",
    "    print(\"   - Equipment standardization review\")\n",
    "\n",
    "# 4. Quick wins\n",
    "print(\"\\n4. QUICK WINS (implement this week)\")\n",
    "print(\"   - Post yesterday's on-time performance in each OR\")\n",
    "print(\"   - Text reminder to first-case teams at 6:30 AM\")\n",
    "print(\"   - Celebrate on-time starts with team recognition\")\n",
    "\n",
    "print(\"\\n\" + \"=\" * 50)\n",
    "print(\"Expected combined impact: 60-80% reduction in delays\")\n",
    "print(f\"Projected annual savings: ${annual_savings:,.0f}\")\n",
    "print(f\"Time to break even: {payback_months:.0f} months\")"
   ]
  }
 ],
 "metadata": {
  "kernelspec": {
   "display_name": "Python 3",
   "language": "python",
   "name": "python3"
  },
  "language_info": {
   "codemirror_mode": {
    "name": "ipython",
    "version": 3
   },
   "file_extension": ".py",
   "mimetype": "text/x-python",
   "name": "python",
   "nbconvert_exporter": "python",
   "pygments_lexer": "ipython3",
   "version": "3.8.0"
  }
 },
 "nbformat": 4,
 "nbformat_minor": 4
}